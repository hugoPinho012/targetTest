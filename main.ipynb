{
 "cells": [
  {
   "cell_type": "markdown",
   "metadata": {},
   "source": [
    "# Questão 1"
   ]
  },
  {
   "cell_type": "code",
   "execution_count": 2,
   "metadata": {},
   "outputs": [
    {
     "name": "stdout",
     "output_type": "stream",
     "text": [
      "91\n"
     ]
    }
   ],
   "source": [
    "indice = 13\n",
    "soma = 0\n",
    "k = 0\n",
    "\n",
    "while k < indice:\n",
    "    k += 1\n",
    "    soma += k\n",
    "\n",
    "print(soma)"
   ]
  },
  {
   "cell_type": "markdown",
   "metadata": {},
   "source": [
    "# Questão 2"
   ]
  },
  {
   "cell_type": "code",
   "execution_count": 7,
   "metadata": {},
   "outputs": [],
   "source": [
    "def is_in_fibonacci(escolha_usuario: int):\n",
    "    # Obrigatoriamente 0 e 1 sempre são os primeiro números, posteriormente serão atualizados\n",
    "    primeiro, segundo = 0, 1\n",
    "\n",
    "    while segundo < escolha_usuario:\n",
    "        # O primeiro se torna o segundo, o segundo se torna a soma dos dois\n",
    "        primeiro, segundo = segundo, primeiro + segundo\n",
    "\n",
    "        # Caso um eventual \"segundo\" número seja igual ao escolhido pelo usuário, loop é quebrado\n",
    "        if escolha_usuario == segundo:\n",
    "            return (f\"{escolha_usuario} pertence a sequência\")\n",
    "        \n",
    "    return (f\"{escolha_usuario} não pertence a sequência\")"
   ]
  },
  {
   "cell_type": "code",
   "execution_count": 11,
   "metadata": {},
   "outputs": [
    {
     "data": {
      "text/plain": [
       "'5 pertence a sequência'"
      ]
     },
     "execution_count": 11,
     "metadata": {},
     "output_type": "execute_result"
    }
   ],
   "source": [
    "is_in_fibonacci(5)"
   ]
  },
  {
   "cell_type": "markdown",
   "metadata": {},
   "source": [
    "# Questão 3"
   ]
  },
  {
   "cell_type": "markdown",
   "metadata": {},
   "source": [
    "> ## a) A sequência é obtida somando dois a cada elemento (1, 1+2, 3+2, 5+7, 7+9):\n",
    "> ## 1, 3, 5, 7, 9\n"
   ]
  },
  {
   "cell_type": "markdown",
   "metadata": {},
   "source": [
    "> ## b) A sequência é composta elevando os números ao quadrado (2\\**1, 2\\**2, 2\\**3, 2\\**4, 2\\**5, 2\\**6):\n",
    "> ## 2, 4, 8, 16, 32, 64, 128"
   ]
  },
  {
   "cell_type": "markdown",
   "metadata": {},
   "source": [
    "> ## c) A lista é composta pelo somatório do número impar (0+0, 0+1, 1+3, 4+5, 9+7, 16+9, 25+13):\n",
    "> ## 0, 1, 4, 9, 16, 25, 38"
   ]
  },
  {
   "cell_type": "markdown",
   "metadata": {},
   "source": [
    "> ## d) A sequência vem de elevarmos os números pares ao quadrado (2\\**2, 4\\**2, 6\\**2, 8\\**2, 10\\**2):\n",
    "> ## 4, 16, 36, 64, 100"
   ]
  },
  {
   "cell_type": "markdown",
   "metadata": {},
   "source": [
    "> ## e) É uma sequência de fibonacci (1, 1+1, 1+2, 2+3, 3+5, 5+8):\n",
    "> ## 1, 1, 2, 3, 5, 8, 13 "
   ]
  },
  {
   "cell_type": "markdown",
   "metadata": {},
   "source": [
    "> ## f) A sequência contém os números naturais que começam com \"d\" (dois, dez, dezesseis, dezessete, dezoito, dezenove, duzentos):\n",
    "> ## 2, 10, 12, 16, 17, 17, 18, 19, 200\n"
   ]
  },
  {
   "cell_type": "markdown",
   "metadata": {},
   "source": [
    "# Questão 4"
   ]
  },
  {
   "cell_type": "markdown",
   "metadata": {},
   "source": [
    "> Ligue o interruptor 1 durante 5 minutos e depois desligue-o <br>\n",
    "> Ligue o interruptor 2 e vá até a sala <br>\n",
    "> A lâmpada que estiver acessa está associada ao interruptor 2, a que estiver desligada e quente ao primeiro, e a fria e desligada ao terceiro"
   ]
  },
  {
   "cell_type": "markdown",
   "metadata": {},
   "source": [
    "# Questão 5"
   ]
  },
  {
   "cell_type": "markdown",
   "metadata": {},
   "source": [
    "## Abordagem 1)"
   ]
  },
  {
   "cell_type": "code",
   "execution_count": 67,
   "metadata": {},
   "outputs": [
    {
     "data": {
      "text/plain": [
       "'otxet'"
      ]
     },
     "execution_count": 67,
     "metadata": {},
     "output_type": "execute_result"
    }
   ],
   "source": [
    "texto = \"texto\"\n",
    "texto[::-1]"
   ]
  },
  {
   "cell_type": "markdown",
   "metadata": {},
   "source": [
    "## Abordagem 2)"
   ]
  },
  {
   "cell_type": "code",
   "execution_count": 74,
   "metadata": {},
   "outputs": [],
   "source": [
    "def reverse_string(texto: str):\n",
    "    # Inicializamos variável que armazenará string invertida\n",
    "    string_invertida = \"\"\n",
    "\n",
    "    # Passamos por cada letra do texto ao contrário\n",
    "    for letra in range(len(texto) - 1, -1, -1):\n",
    "        # Adicionamos cada letra\n",
    "        string_invertida += texto[letra]\n",
    "    \n",
    "    return string_invertida"
   ]
  },
  {
   "cell_type": "code",
   "execution_count": 75,
   "metadata": {},
   "outputs": [
    {
     "data": {
      "text/plain": [
       "'otxet'"
      ]
     },
     "execution_count": 75,
     "metadata": {},
     "output_type": "execute_result"
    }
   ],
   "source": [
    "reverse_string(\"texto\")"
   ]
  },
  {
   "cell_type": "code",
   "execution_count": null,
   "metadata": {},
   "outputs": [],
   "source": []
  }
 ],
 "metadata": {
  "kernelspec": {
   "display_name": ".venv",
   "language": "python",
   "name": "python3"
  },
  "language_info": {
   "codemirror_mode": {
    "name": "ipython",
    "version": 3
   },
   "file_extension": ".py",
   "mimetype": "text/x-python",
   "name": "python",
   "nbconvert_exporter": "python",
   "pygments_lexer": "ipython3",
   "version": "3.12.0"
  }
 },
 "nbformat": 4,
 "nbformat_minor": 2
}
